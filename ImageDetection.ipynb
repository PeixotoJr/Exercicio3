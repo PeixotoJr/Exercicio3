{
 "cells": [
  {
   "cell_type": "code",
   "execution_count": 9,
   "metadata": {},
   "outputs": [
    {
     "name": "stdout",
     "output_type": "stream",
     "text": [
      "('truck', ' : ', 13.007727265357971)\n",
      "('truck', ' : ', 13.075844943523407)\n",
      "('truck', ' : ', 14.456476271152496)\n",
      "('truck', ' : ', 14.556238055229187)\n",
      "('truck', ' : ', 16.325080394744873)\n",
      "('truck', ' : ', 17.218497395515442)\n",
      "('truck', ' : ', 19.68071609735489)\n",
      "('truck', ' : ', 65.76365828514099)\n",
      "('bus', ' : ', 35.25001406669617)\n",
      "('bus', ' : ', 40.1610404253006)\n",
      "('bus', ' : ', 40.657684206962585)\n",
      "('motorcycle', ' : ', 75.75454711914062)\n",
      "('car', ' : ', 20.33790647983551)\n",
      "('car', ' : ', 21.16079330444336)\n",
      "('car', ' : ', 28.18620502948761)\n",
      "('car', ' : ', 28.239664435386658)\n",
      "('car', ' : ', 29.387575387954712)\n",
      "('car', ' : ', 34.121912717819214)\n",
      "('car', ' : ', 34.32529866695404)\n",
      "('car', ' : ', 35.194480419158936)\n",
      "('car', ' : ', 35.962557792663574)\n",
      "('car', ' : ', 49.69431459903717)\n",
      "('car', ' : ', 63.057440519332886)\n",
      "('car', ' : ', 75.98129510879517)\n",
      "('car', ' : ', 81.04690313339233)\n",
      "('car', ' : ', 85.4556143283844)\n",
      "('car', ' : ', 86.3156259059906)\n",
      "('car', ' : ', 89.13851976394653)\n",
      "('car', ' : ', 91.73168540000916)\n",
      "('car', ' : ', 93.92067790031433)\n",
      "('car', ' : ', 97.69954085350037)\n",
      "('car', ' : ', 97.84176349639893)\n",
      "('person', ' : ', 11.962040513753891)\n",
      "('person', ' : ', 12.004482746124268)\n",
      "('person', ' : ', 12.789307534694672)\n",
      "('person', ' : ', 15.638670325279236)\n",
      "('person', ' : ', 35.358285903930664)\n",
      "('person', ' : ', 50.25920271873474)\n",
      "('person', ' : ', 56.46616220474243)\n",
      "('person', ' : ', 75.76874494552612)\n"
     ]
    }
   ],
   "source": [
    "from tensorflow.keras import models\n",
    "from tensorflow.keras import layers\n",
    "from imageai.Detection import ObjectDetection\n",
    "\n",
    "detector = ObjectDetection()\n",
    "\n",
    "\n",
    "model_path = \"./models/yolo-tiny.h5\"\n",
    "input_path = \"./input/b.jpg\"\n",
    "output_path = \"./output/newimage.jpg\"\n",
    "\n",
    "detector.setModelTypeAsTinyYOLOv3()\n",
    "#detector.setModelTypeAsRetinaNet()\n",
    "detector.setModelPath(model_path)\n",
    "detector.loadModel()\n",
    "detection = detector.detectObjectsFromImage(input_image=input_path, output_image_path=output_path)\n",
    "\n",
    "for eachItem in detection:\n",
    "    print(eachItem[\"name\"] , \" : \", eachItem[\"percentage_probability\"])"
   ]
  },
  {
   "cell_type": "code",
   "execution_count": null,
   "metadata": {},
   "outputs": [],
   "source": []
  },
  {
   "cell_type": "code",
   "execution_count": null,
   "metadata": {},
   "outputs": [],
   "source": []
  }
 ],
 "metadata": {
  "kernelspec": {
   "display_name": "Python 3",
   "language": "python",
   "name": "python3"
  },
  "language_info": {
   "codemirror_mode": {
    "name": "ipython",
    "version": 2
   },
   "file_extension": ".py",
   "mimetype": "text/x-python",
   "name": "python",
   "nbconvert_exporter": "python",
   "pygments_lexer": "ipython2",
   "version": "2.7.16"
  }
 },
 "nbformat": 4,
 "nbformat_minor": 2
}
